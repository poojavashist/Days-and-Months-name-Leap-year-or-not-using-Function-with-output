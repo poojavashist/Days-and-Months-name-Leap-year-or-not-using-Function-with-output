{
 "cells": [
  {
   "cell_type": "code",
   "execution_count": 10,
   "metadata": {},
   "outputs": [
    {
     "name": "stdout",
     "output_type": "stream",
     "text": [
      "Enter the year: 1981\n",
      "Enter the Month : 3\n",
      "31\n"
     ]
    }
   ],
   "source": [
    "def is_leap(year):\n",
    "    if year %4 == 0:\n",
    "        if year%100 == 0:\n",
    "            return True\n",
    "        else:\n",
    "            return False\n",
    "        #else:\n",
    "         #   return True\n",
    "    else:\n",
    "        return False\n",
    "def days_in_month(year, month):\n",
    "    month_days = [31,28,31,30,31,30,31,31,30,31,30,31]\n",
    "    if month > 12 or month < 1:\n",
    "        return \"invalid month entered.\"\n",
    "    if month == 2 and is_leap(year):\n",
    "        return 29\n",
    "    return month_days[month -1]\n",
    "year = int(input(\"Enter the year: \"))\n",
    "month = int(input(\"Enter the Month : \"))\n",
    "days = days_in_month(year,month)\n",
    "print(days)\n",
    "\n",
    "    "
   ]
  },
  {
   "cell_type": "code",
   "execution_count": 16,
   "metadata": {},
   "outputs": [
    {
     "name": "stdout",
     "output_type": "stream",
     "text": [
      "Enter a year: 2020\n",
      "Enter a month: 2\n",
      "None\n"
     ]
    }
   ],
   "source": [
    "def is_leap(year):\n",
    "  if year % 4 == 0:\n",
    "    if year % 100 == 0:\n",
    "      if year % 400 == 0:\n",
    "        print(\"Leap year.\")\n",
    "      else:\n",
    "        print(\"Not leap year.\")\n",
    "    else:\n",
    "      print(\"Leap year.\")\n",
    "  else:\n",
    "    print(\"Not leap year.\")\n",
    "\n",
    "def days_in_month(year, month):\n",
    "  month_days = [31, 28, 31, 30, 31, 30, 31, 31, 30, 31, 30, 31]  \n",
    "  \n",
    "  \n",
    "#🚨 Do NOT change any of the code below \n",
    "year = int(input(\"Enter a year: \"))\n",
    "month = int(input(\"Enter a month: \"))\n",
    "days = days_in_month(year, month)\n",
    "print(days)\n"
   ]
  },
  {
   "cell_type": "code",
   "execution_count": null,
   "metadata": {},
   "outputs": [],
   "source": []
  },
  {
   "cell_type": "code",
   "execution_count": null,
   "metadata": {},
   "outputs": [],
   "source": []
  }
 ],
 "metadata": {
  "kernelspec": {
   "display_name": "Python 3",
   "language": "python",
   "name": "python3"
  },
  "language_info": {
   "codemirror_mode": {
    "name": "ipython",
    "version": 3
   },
   "file_extension": ".py",
   "mimetype": "text/x-python",
   "name": "python",
   "nbconvert_exporter": "python",
   "pygments_lexer": "ipython3",
   "version": "3.8.3"
  }
 },
 "nbformat": 4,
 "nbformat_minor": 4
}
